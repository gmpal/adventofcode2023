{
 "cells": [
  {
   "cell_type": "code",
   "execution_count": 2,
   "metadata": {},
   "outputs": [],
   "source": [
    "import numpy as np"
   ]
  },
  {
   "cell_type": "code",
   "execution_count": 38,
   "metadata": {},
   "outputs": [],
   "source": [
    "with open('input.txt','r') as f:\n",
    "    game = f.readlines()\n",
    "\n",
    "for i in range(len(game)):\n",
    "    game[i] = game[i].strip()"
   ]
  },
  {
   "cell_type": "code",
   "execution_count": 39,
   "metadata": {},
   "outputs": [],
   "source": [
    "rows = len(game)\n",
    "cols = len(game[0])\n",
    "grid = np.zeros((rows, cols), dtype=object)\n",
    "for line_idx, line in enumerate(game):\n",
    "    for element_idx, element in enumerate(line):\n",
    "        grid[line_idx, element_idx] = element.strip()"
   ]
  },
  {
   "cell_type": "code",
   "execution_count": 40,
   "metadata": {},
   "outputs": [
    {
     "data": {
      "text/plain": [
       "array([['#', '.', 'O', ..., '.', '.', '#'],\n",
       "       ['.', '.', '.', ..., 'O', '#', 'O'],\n",
       "       ['.', '.', '.', ..., '#', '.', '#'],\n",
       "       ...,\n",
       "       ['.', '.', '.', ..., '#', '.', '.'],\n",
       "       ['.', '#', '.', ..., '#', '.', '.'],\n",
       "       ['#', '.', '.', ..., 'O', '#', 'O']], dtype=object)"
      ]
     },
     "execution_count": 40,
     "metadata": {},
     "output_type": "execute_result"
    }
   ],
   "source": [
    "grid"
   ]
  },
  {
   "cell_type": "code",
   "execution_count": 41,
   "metadata": {},
   "outputs": [],
   "source": [
    "def float_zeroes(grid_):\n",
    "    grid_copy = grid_.copy()\n",
    "    num_rows = grid_copy.shape[0]\n",
    "    num_cols = grid_copy.shape[1]\n",
    "\n",
    "    for i in range(num_rows -1 ,0, -1):\n",
    "        for j in range(num_cols -1, -1, -1):\n",
    "            above_element = grid_copy[i-1,j]\n",
    "            if grid_copy[i,j] == 'O' and above_element == '.':\n",
    "                grid_copy[i,j] = '.'\n",
    "                grid_copy[i-1,j] = 'O'\n",
    "    return grid_copy"
   ]
  },
  {
   "cell_type": "code",
   "execution_count": 42,
   "metadata": {},
   "outputs": [],
   "source": [
    "grid2 = grid.copy()\n",
    "\n",
    "condition = False\n",
    "while(not condition):\n",
    "    grid3 = float_zeroes(grid2)\n",
    "    if np.array_equal(grid2, grid3):\n",
    "        condition = True\n",
    "    else:\n",
    "        grid2 = grid3.copy()"
   ]
  },
  {
   "cell_type": "code",
   "execution_count": 43,
   "metadata": {},
   "outputs": [],
   "source": [
    "def compute_load(grid):\n",
    "    num_rows = grid.shape[0]\n",
    "    num_cols = grid.shape[1]\n",
    "    load = np.zeros((num_rows, num_cols), dtype=int)\n",
    "\n",
    "    for i in range(num_rows):\n",
    "        for j in range(num_cols):\n",
    "            if grid[i,j] == 'O':\n",
    "                load[i,j] = num_rows - i\n",
    "    return load"
   ]
  },
  {
   "cell_type": "code",
   "execution_count": 44,
   "metadata": {},
   "outputs": [
    {
     "data": {
      "text/plain": [
       "107053"
      ]
     },
     "execution_count": 44,
     "metadata": {},
     "output_type": "execute_result"
    }
   ],
   "source": [
    "compute_load(grid2).sum()"
   ]
  },
  {
   "cell_type": "markdown",
   "metadata": {},
   "source": [
    "# Part 2"
   ]
  },
  {
   "cell_type": "code",
   "execution_count": 45,
   "metadata": {},
   "outputs": [],
   "source": [
    "def float_zeroes_north(grid_):\n",
    "    grid_copy = grid_.copy()\n",
    "    num_rows = grid_copy.shape[0]\n",
    "    num_cols = grid_copy.shape[1]\n",
    "\n",
    "    for i in range(num_rows -1 ,0, -1):\n",
    "        for j in range(num_cols -1, -1, -1):\n",
    "            above_element = grid_copy[i-1,j]\n",
    "            if grid_copy[i,j] == 'O' and above_element == '.':\n",
    "                grid_copy[i,j] = '.'\n",
    "                grid_copy[i-1,j] = 'O'\n",
    "    return grid_copy\n",
    "\n",
    "def float_zeroes_south(grid_):\n",
    "    grid_copy = grid_.copy()\n",
    "    num_rows = grid_copy.shape[0]\n",
    "    num_cols = grid_copy.shape[1]\n",
    "\n",
    "    for i in range(0, num_rows -1):\n",
    "        for j in range(0, num_cols):\n",
    "            below_element = grid_copy[i+1,j]\n",
    "            if grid_copy[i,j] == 'O' and below_element == '.':\n",
    "                grid_copy[i,j] = '.'\n",
    "                grid_copy[i+1,j] = 'O'\n",
    "    return grid_copy\n",
    "\n",
    "def float_zeroes_east(grid_):\n",
    "    grid_copy = grid_.copy()\n",
    "    num_rows = grid_copy.shape[0]\n",
    "    num_cols = grid_copy.shape[1]\n",
    "\n",
    "    for i in range(0, num_rows):\n",
    "        for j in range(0, num_cols - 1):\n",
    "            right_element = grid_copy[i,j+1]\n",
    "            if grid_copy[i,j] == 'O' and right_element == '.':\n",
    "                grid_copy[i,j] = '.'\n",
    "                grid_copy[i,j+1] = 'O'\n",
    "    return grid_copy\n",
    "\n",
    "def float_zeroes_west(grid_):\n",
    "    grid_copy = grid_.copy()\n",
    "    num_rows = grid_copy.shape[0]\n",
    "    num_cols = grid_copy.shape[1]\n",
    "\n",
    "    for i in range(num_rows -1 ,-1, -1):\n",
    "        for j in range(1, num_cols):\n",
    "            left_element = grid_copy[i,j-1]\n",
    "            if grid_copy[i,j] == 'O' and left_element == '.':\n",
    "                grid_copy[i,j] = '.'\n",
    "                grid_copy[i,j-1] = 'O'\n",
    "    return grid_copy"
   ]
  },
  {
   "cell_type": "code",
   "execution_count": 46,
   "metadata": {},
   "outputs": [],
   "source": [
    "def perform_one_cycle(grid):\n",
    "    grid2 = grid.copy()\n",
    "\n",
    "    condition = False\n",
    "    while(not condition):\n",
    "        grid3 = float_zeroes_north(grid2)\n",
    "        if np.array_equal(grid2, grid3):\n",
    "            condition = True\n",
    "        else:\n",
    "            grid2 = grid3.copy()\n",
    "\n",
    "    condition = False\n",
    "    while(not condition):\n",
    "        grid3 = float_zeroes_west(grid2)\n",
    "        if np.array_equal(grid2, grid3):\n",
    "            condition = True\n",
    "        else:\n",
    "            grid2 = grid3.copy()\n",
    "\n",
    "    condition = False\n",
    "    while(not condition):\n",
    "        grid3 = float_zeroes_south(grid2)\n",
    "        if np.array_equal(grid2, grid3):\n",
    "            condition = True\n",
    "        else:\n",
    "            grid2 = grid3.copy()\n",
    "\n",
    "    condition = False\n",
    "    while(not condition):\n",
    "        grid3 = float_zeroes_east(grid2)\n",
    "        if np.array_equal(grid2, grid3):\n",
    "            condition = True\n",
    "        else:\n",
    "            grid2 = grid3.copy()\n",
    "\n",
    "    return grid2"
   ]
  },
  {
   "cell_type": "code",
   "execution_count": 47,
   "metadata": {},
   "outputs": [],
   "source": [
    "grid2 = grid.copy()"
   ]
  },
  {
   "cell_type": "code",
   "execution_count": 48,
   "metadata": {},
   "outputs": [
    {
     "data": {
      "text/plain": [
       "array([['#', '.', 'O', ..., '.', '.', '#'],\n",
       "       ['.', '.', '.', ..., 'O', '#', 'O'],\n",
       "       ['.', '.', '.', ..., '#', '.', '#'],\n",
       "       ...,\n",
       "       ['.', '.', '.', ..., '#', '.', '.'],\n",
       "       ['.', '#', '.', ..., '#', '.', '.'],\n",
       "       ['#', '.', '.', ..., 'O', '#', 'O']], dtype=object)"
      ]
     },
     "execution_count": 48,
     "metadata": {},
     "output_type": "execute_result"
    }
   ],
   "source": [
    "grid"
   ]
  },
  {
   "cell_type": "code",
   "execution_count": 49,
   "metadata": {},
   "outputs": [],
   "source": [
    "num_cycles = 0\n",
    "while( num_cycles < 14):\n",
    "    grid2 = perform_one_cycle(grid2)\n",
    "    num_cycles += 1"
   ]
  },
  {
   "cell_type": "code",
   "execution_count": 50,
   "metadata": {},
   "outputs": [
    {
     "data": {
      "text/plain": [
       "95617"
      ]
     },
     "execution_count": 50,
     "metadata": {},
     "output_type": "execute_result"
    }
   ],
   "source": [
    "compute_load(grid2).sum()"
   ]
  },
  {
   "cell_type": "code",
   "execution_count": 29,
   "metadata": {},
   "outputs": [
    {
     "data": {
      "text/plain": [
       "12"
      ]
     },
     "execution_count": 29,
     "metadata": {},
     "output_type": "execute_result"
    }
   ],
   "source": [
    "1000000000 % 52"
   ]
  }
 ],
 "metadata": {
  "kernelspec": {
   "display_name": "d2c",
   "language": "python",
   "name": "python3"
  },
  "language_info": {
   "codemirror_mode": {
    "name": "ipython",
    "version": 3
   },
   "file_extension": ".py",
   "mimetype": "text/x-python",
   "name": "python",
   "nbconvert_exporter": "python",
   "pygments_lexer": "ipython3",
   "version": "3.8.18"
  },
  "orig_nbformat": 4
 },
 "nbformat": 4,
 "nbformat_minor": 2
}
