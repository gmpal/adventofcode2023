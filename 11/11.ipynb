{
 "cells": [
  {
   "cell_type": "code",
   "execution_count": 103,
   "metadata": {},
   "outputs": [],
   "source": [
    "import numpy as np\n",
    "from copy import deepcopy"
   ]
  },
  {
   "cell_type": "code",
   "execution_count": 36,
   "metadata": {},
   "outputs": [],
   "source": [
    "with open('short.txt', 'r') as f:\n",
    "    lines = f.readlines()\n",
    "rows = len(lines)\n",
    "cols = len(lines[0])\n",
    "grid = np.zeros((rows, cols), dtype=object)\n",
    "for line_idx, line in enumerate(lines):\n",
    "    for element_idx, element in enumerate(line):\n",
    "       grid[line_idx, element_idx] = element  \n",
    "grid_copy = deepcopy(grid)"
   ]
  },
  {
   "cell_type": "code",
   "execution_count": 25,
   "metadata": {},
   "outputs": [],
   "source": [
    "insertion_count = 0  # Variable to track the number of insertions\n",
    "\n",
    "for col_idx in range(cols - 1):\n",
    "    # Adjust the index for insertion\n",
    "    adjusted_index = col_idx + insertion_count\n",
    "\n",
    "    new_col = grid[:, col_idx]\n",
    "    if '#' not in new_col: \n",
    "        # Insert the column at the adjusted index\n",
    "        grid_copy = np.insert(grid_copy, adjusted_index, new_col, axis=1)\n",
    "        insertion_count += 1  # Increment the insertion count\n",
    "\n",
    "insertion_count = 0 \n",
    "\n",
    "grid = deepcopy(grid_copy)\n",
    "new_rows = grid_copy.shape[0]        \n",
    "for row_idx in range(new_rows-1):\n",
    "    adjusted_index = row_idx + insertion_count\n",
    "\n",
    "    new_row = grid_copy[row_idx, :]\n",
    "    if '#' not in new_row: \n",
    "        grid = np.insert(grid, adjusted_index, new_row, axis=0)\n",
    "        insertion_count += 1  # Increment the insertion count"
   ]
  },
  {
   "cell_type": "code",
   "execution_count": 26,
   "metadata": {},
   "outputs": [],
   "source": [
    "with open('short_expanded.txt', 'w') as f:\n",
    "    for line in grid:\n",
    "        for element in line: \n",
    "            f.write(str(element))"
   ]
  },
  {
   "cell_type": "code",
   "execution_count": 39,
   "metadata": {},
   "outputs": [],
   "source": [
    "#find all #\n",
    "indices = np.where(grid == '#')\n",
    "indices = list(zip(indices[0], indices[1]))\n",
    "all_couples_indices = []\n",
    "for idx in indices:\n",
    "    for idx2 in indices:\n",
    "        if idx != idx2:\n",
    "            all_couples_indices.append((idx, idx2))"
   ]
  },
  {
   "cell_type": "code",
   "execution_count": 40,
   "metadata": {},
   "outputs": [],
   "source": [
    "def shortest_path(point_1, point_2):\n",
    "    x1, y1 = point_1\n",
    "    x2, y2 = point_2\n",
    "    return abs(x1-x2) + abs(y1-y2)"
   ]
  },
  {
   "cell_type": "code",
   "execution_count": 41,
   "metadata": {},
   "outputs": [
    {
     "data": {
      "text/plain": [
       "6"
      ]
     },
     "execution_count": 41,
     "metadata": {},
     "output_type": "execute_result"
    }
   ],
   "source": [
    "a,b = all_couples_indices[0]\n",
    "shortest_path(a,b)"
   ]
  },
  {
   "cell_type": "code",
   "execution_count": 127,
   "metadata": {},
   "outputs": [],
   "source": [
    "cumulative_shortest_path = 0\n",
    "for couple in all_couples_indices:\n",
    "    point_1, point_2 = couple\n",
    "    cumulative_shortest_path += shortest_path(point_1, point_2)\n",
    "    "
   ]
  },
  {
   "cell_type": "code",
   "execution_count": 128,
   "metadata": {},
   "outputs": [
    {
     "data": {
      "text/plain": [
       "20155700"
      ]
     },
     "execution_count": 128,
     "metadata": {},
     "output_type": "execute_result"
    }
   ],
   "source": [
    "cumulative_shortest_path"
   ]
  },
  {
   "cell_type": "code",
   "execution_count": 129,
   "metadata": {},
   "outputs": [
    {
     "data": {
      "text/plain": [
       "10077850"
      ]
     },
     "execution_count": 129,
     "metadata": {},
     "output_type": "execute_result"
    }
   ],
   "source": [
    "20155700 //2 "
   ]
  },
  {
   "attachments": {},
   "cell_type": "markdown",
   "metadata": {},
   "source": [
    "# Part 2 "
   ]
  },
  {
   "cell_type": "code",
   "execution_count": 1,
   "metadata": {},
   "outputs": [],
   "source": [
    "import numpy as np\n",
    "from copy import deepcopy"
   ]
  },
  {
   "cell_type": "code",
   "execution_count": 26,
   "metadata": {},
   "outputs": [
    {
     "name": "stdout",
     "output_type": "stream",
     "text": [
      "140\n",
      "140\n"
     ]
    }
   ],
   "source": [
    "with open('input.txt', 'r') as f:\n",
    "    lines = f.readlines()\n",
    "rows = len(lines)\n",
    "print(rows)\n",
    "cols = len(lines[0]) - 1\n",
    "print(cols)\n",
    "grid = np.zeros((rows, cols), dtype=object)\n",
    "for line_idx, line in enumerate(lines):\n",
    "    for element_idx, element in enumerate(line[:-1]):\n",
    "       grid[line_idx, element_idx] = element  \n",
    "grid_copy = deepcopy(grid)"
   ]
  },
  {
   "cell_type": "code",
   "execution_count": 27,
   "metadata": {},
   "outputs": [],
   "source": [
    "special_cols = []\n",
    "for col_idx in range(cols):\n",
    "    new_col = grid[:, col_idx]\n",
    "    if '#' not in new_col: \n",
    "        special_cols.append(col_idx)\n",
    "        \n",
    "special_rows = []\n",
    "for row_idx in range(rows):\n",
    "    new_row = grid[row_idx, :]\n",
    "    if '#' not in new_row: \n",
    "        special_rows.append(row_idx)"
   ]
  },
  {
   "cell_type": "code",
   "execution_count": 28,
   "metadata": {},
   "outputs": [],
   "source": [
    "#find all #\n",
    "indices = np.where(grid == '#')\n",
    "indices = list(zip(indices[0], indices[1]))\n",
    "all_couples_indices = []\n",
    "for idx in indices:\n",
    "    for idx2 in indices:\n",
    "        if idx != idx2:\n",
    "            all_couples_indices.append((idx, idx2))"
   ]
  },
  {
   "cell_type": "code",
   "execution_count": 29,
   "metadata": {},
   "outputs": [],
   "source": [
    "def path_passes_though_rows(point_1, point_2, special_col):\n",
    "    x1, y1 = point_1\n",
    "    x2, y2 = point_2\n",
    "    if x1 <= x2:\n",
    "        if special_col in range(x1, x2):\n",
    "            return True\n",
    "        else:\n",
    "            return False\n",
    "    else:\n",
    "        if special_col in range(x1, x2, -1):\n",
    "            return True\n",
    "        else:\n",
    "            return False\n",
    "\n",
    "def path_passes_though_column(point_1, point_2, special_row):\n",
    "    x1, y1 = point_1\n",
    "    x2, y2 = point_2\n",
    "    if y1 <= y2:\n",
    "        if special_row in range(y1, y2):\n",
    "            return True\n",
    "        else:\n",
    "            return False\n",
    "    else:\n",
    "        if special_row in range(y1, y2, -1):\n",
    "            return True\n",
    "        else:\n",
    "            return False\n"
   ]
  },
  {
   "cell_type": "code",
   "execution_count": 30,
   "metadata": {},
   "outputs": [
    {
     "data": {
      "text/plain": [
       "[15, 53, 60, 72, 88, 94]"
      ]
     },
     "execution_count": 30,
     "metadata": {},
     "output_type": "execute_result"
    }
   ],
   "source": [
    "special_cols"
   ]
  },
  {
   "cell_type": "code",
   "execution_count": 31,
   "metadata": {},
   "outputs": [
    {
     "data": {
      "text/plain": [
       "[17, 27, 69, 77, 93, 96]"
      ]
     },
     "execution_count": 31,
     "metadata": {},
     "output_type": "execute_result"
    }
   ],
   "source": [
    "special_rows"
   ]
  },
  {
   "cell_type": "code",
   "execution_count": 32,
   "metadata": {},
   "outputs": [],
   "source": [
    "def shortest_path(point_1, point_2, factor):\n",
    "    x1, y1 = point_1\n",
    "    x2, y2 = point_2\n",
    "\n",
    "    deltax = abs(x1-x2)\n",
    "    deltay = abs(y1-y2)\n",
    "    \n",
    "    for column in special_cols:\n",
    "        if path_passes_though_column(point_1, point_2, column):\n",
    "            deltax += (factor - 1)\n",
    "    for row in special_rows:\n",
    "        if path_passes_though_rows(point_1, point_2, row):\n",
    "            deltay += (factor - 1)\n",
    "\n",
    "    return deltax + deltay"
   ]
  },
  {
   "cell_type": "code",
   "execution_count": 33,
   "metadata": {},
   "outputs": [
    {
     "data": {
      "text/plain": [
       "504715068438"
      ]
     },
     "execution_count": 33,
     "metadata": {},
     "output_type": "execute_result"
    }
   ],
   "source": [
    "factor = 1000000\n",
    "cumulative_shortest_path = 0\n",
    "for couple in all_couples_indices:\n",
    "    point_1, point_2 = couple\n",
    "    cumulative_shortest_path += shortest_path(point_1, point_2, factor)\n",
    "\n",
    "cumulative_shortest_path // 2\n",
    "    "
   ]
  },
  {
   "cell_type": "code",
   "execution_count": 45,
   "metadata": {},
   "outputs": [
    {
     "data": {
      "text/plain": [
       "[2, 5, 8]"
      ]
     },
     "execution_count": 45,
     "metadata": {},
     "output_type": "execute_result"
    }
   ],
   "source": [
    "special_cols"
   ]
  },
  {
   "cell_type": "code",
   "execution_count": 46,
   "metadata": {},
   "outputs": [
    {
     "data": {
      "text/plain": [
       "[3, 7]"
      ]
     },
     "execution_count": 46,
     "metadata": {},
     "output_type": "execute_result"
    }
   ],
   "source": [
    "special_rows"
   ]
  },
  {
   "cell_type": "code",
   "execution_count": 48,
   "metadata": {},
   "outputs": [
    {
     "name": "stdout",
     "output_type": "stream",
     "text": [
      "(0, 3) --> (2, 0) = 9\n"
     ]
    }
   ],
   "source": [
    "for i in range(0, 9):\n",
    "    for j in range(0,9):\n",
    "        if i != j:\n",
    "            a,b = all_couples_indices[i+j]\n",
    "            print(a, '-->', b, '=', shortest_path(a,b, 5))\n",
    "            break\n",
    "    break"
   ]
  },
  {
   "cell_type": "code",
   "execution_count": 141,
   "metadata": {},
   "outputs": [
    {
     "data": {
      "text/plain": [
       "[3, 7]"
      ]
     },
     "execution_count": 141,
     "metadata": {},
     "output_type": "execute_result"
    }
   ],
   "source": [
    "special_rows"
   ]
  },
  {
   "cell_type": "code",
   "execution_count": 95,
   "metadata": {},
   "outputs": [
    {
     "data": {
      "text/plain": [
       "[2, 5, 8]"
      ]
     },
     "execution_count": 95,
     "metadata": {},
     "output_type": "execute_result"
    }
   ],
   "source": [
    "special_cols"
   ]
  },
  {
   "cell_type": "code",
   "execution_count": 82,
   "metadata": {},
   "outputs": [
    {
     "data": {
      "text/plain": [
       "[9, 8, 7, 6, 5, 4, 3, 2, 1]"
      ]
     },
     "execution_count": 82,
     "metadata": {},
     "output_type": "execute_result"
    }
   ],
   "source": [
    "list(range(9, 0,-1))"
   ]
  },
  {
   "cell_type": "code",
   "execution_count": 97,
   "metadata": {},
   "outputs": [
    {
     "data": {
      "text/plain": [
       "True"
      ]
     },
     "execution_count": 97,
     "metadata": {},
     "output_type": "execute_result"
    }
   ],
   "source": [
    "2 in range(9, 0, -1)"
   ]
  }
 ],
 "metadata": {
  "kernelspec": {
   "display_name": "d2c",
   "language": "python",
   "name": "python3"
  },
  "language_info": {
   "codemirror_mode": {
    "name": "ipython",
    "version": 3
   },
   "file_extension": ".py",
   "mimetype": "text/x-python",
   "name": "python",
   "nbconvert_exporter": "python",
   "pygments_lexer": "ipython3",
   "version": "3.11.5"
  },
  "orig_nbformat": 4
 },
 "nbformat": 4,
 "nbformat_minor": 2
}
