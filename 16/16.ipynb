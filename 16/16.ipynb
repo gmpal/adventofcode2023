{
 "cells": [
  {
   "cell_type": "code",
   "execution_count": 8,
   "metadata": {},
   "outputs": [],
   "source": [
    "import numpy as np"
   ]
  },
  {
   "cell_type": "code",
   "execution_count": 4,
   "metadata": {},
   "outputs": [
    {
     "data": {
      "text/plain": [
       "['.|...\\\\....',\n",
       " '|.-.\\\\.....',\n",
       " '.....|-...',\n",
       " '........|.',\n",
       " '..........',\n",
       " '.........\\\\',\n",
       " '..../.\\\\\\\\..',\n",
       " '.-.-/..|..',\n",
       " '.|....-|.\\\\',\n",
       " '..//.|....']"
      ]
     },
     "execution_count": 4,
     "metadata": {},
     "output_type": "execute_result"
    }
   ],
   "source": [
    "with open('simple.txt','r') as file:\n",
    "    lines = file.readlines()\n",
    "\n",
    "lines_ = []\n",
    "for line in lines:\n",
    "    lines_.append(line.strip())\n",
    "\n",
    "lines_"
   ]
  },
  {
   "cell_type": "code",
   "execution_count": 5,
   "metadata": {},
   "outputs": [],
   "source": [
    "lines = lines_"
   ]
  },
  {
   "cell_type": "code",
   "execution_count": 9,
   "metadata": {},
   "outputs": [],
   "source": [
    "rows = len(lines)\n",
    "cols = len(lines[0])\n",
    "\n",
    "grid = np.zeros((rows, cols), dtype=object)\n",
    "\n",
    "for line_idx, line in enumerate(lines):\n",
    "    for element_idx, element in enumerate(line):\n",
    "       grid[line_idx, element_idx] = element  \n"
   ]
  },
  {
   "cell_type": "code",
   "execution_count": 38,
   "metadata": {},
   "outputs": [
    {
     "data": {
      "text/plain": [
       "array([['.', '|', '.', '.', '.', '\\\\', '.', '.', '.', '.'],\n",
       "       ['|', '.', '-', '.', '\\\\', '.', '.', '.', '.', '.'],\n",
       "       ['.', '.', '.', '.', '.', '|', '-', '.', '.', '.'],\n",
       "       ['.', '.', '.', '.', '.', '.', '.', '.', '|', '.'],\n",
       "       ['.', '.', '.', '.', '.', '.', '.', '.', '.', '.'],\n",
       "       ['.', '.', '.', '.', '.', '.', '.', '.', '.', '\\\\'],\n",
       "       ['.', '.', '.', '.', '/', '.', '\\\\', '\\\\', '.', '.'],\n",
       "       ['.', '-', '.', '-', '/', '.', '.', '|', '.', '.'],\n",
       "       ['.', '|', '.', '.', '.', '.', '-', '|', '.', '\\\\'],\n",
       "       ['.', '.', '/', '/', '.', '|', '.', '.', '.', '.']], dtype=object)"
      ]
     },
     "execution_count": 38,
     "metadata": {},
     "output_type": "execute_result"
    }
   ],
   "source": [
    "grid"
   ]
  },
  {
   "cell_type": "code",
   "execution_count": 10,
   "metadata": {},
   "outputs": [],
   "source": [
    "def get_up(x, y):\n",
    "    if x == 0:\n",
    "        return None\n",
    "    return grid[x - 1, y], x - 1, y\n",
    "\n",
    "def get_down(x, y):\n",
    "    if x == rows - 1:\n",
    "        return None\n",
    "    return grid[x + 1, y], x + 1, y\n",
    "\n",
    "def get_left(x, y):\n",
    "    if y == 0:\n",
    "        return None\n",
    "    return grid[x, y - 1], x, y - 1\n",
    "\n",
    "def get_right(x, y):\n",
    "    if y == cols - 1:\n",
    "        return None\n",
    "    return grid[x, y + 1], x, y + 1"
   ]
  },
  {
   "cell_type": "code",
   "execution_count": 63,
   "metadata": {},
   "outputs": [
    {
     "data": {
      "text/plain": [
       "array([['.', '|', '.', '.', '.', '\\\\', '.', '.', '.', '.'],\n",
       "       ['|', '.', '-', '.', '\\\\', '.', '.', '.', '.', '.'],\n",
       "       ['.', '.', '.', '.', '.', '|', '-', '.', '.', '.'],\n",
       "       ['.', '.', '.', '.', '.', '.', '.', '.', '|', '.'],\n",
       "       ['.', '.', '.', '.', '.', '.', '.', '.', '.', '.'],\n",
       "       ['.', '.', '.', '.', '.', '.', '.', '.', '.', '\\\\'],\n",
       "       ['.', '.', '.', '.', '/', '.', '\\\\', '\\\\', '.', '.'],\n",
       "       ['.', '-', '.', '-', '/', '.', '.', '|', '.', '.'],\n",
       "       ['.', '|', '.', '.', '.', '.', '-', '|', '.', '\\\\'],\n",
       "       ['.', '.', '/', '/', '.', '|', '.', '.', '.', '.']], dtype=object)"
      ]
     },
     "execution_count": 63,
     "metadata": {},
     "output_type": "execute_result"
    }
   ],
   "source": [
    "grid"
   ]
  },
  {
   "cell_type": "code",
   "execution_count": 95,
   "metadata": {},
   "outputs": [],
   "source": [
    "def flow(x, y, direction, counter, pipes):\n",
    "    joints = ['|', '-', '/', '\\\\']\n",
    "    counter += 1\n",
    "    to_return = []\n",
    "    if direction == \"up\":\n",
    "        next_point = get_up(x, y)\n",
    "        if next_point is not None and ((next_point[1],next_point[2]) not in pipes or next_point[0] in joints):\n",
    "            next_, next_x, next_y  = next_point\n",
    "            if next_ == '|' :\n",
    "                pipes.append((next_x, next_y))\n",
    "                to_return.append((next_, next_x, next_y, \"up\", counter, pipes))\n",
    "            elif next_ == '/':\n",
    "                pipes.append((next_x, next_y))\n",
    "                to_return.append((next_, next_x, next_y, \"right\", counter, pipes))\n",
    "            elif next_ == '\\\\':\n",
    "                pipes.append((next_x, next_y))\n",
    "                to_return.append((next_, next_x, next_y, \"left\", counter, pipes))\n",
    "            elif next_ == '-':\n",
    "                pipes.append((next_x, next_y))\n",
    "                to_return.append((next_, next_x, next_y, \"left\", counter, pipes))\n",
    "                to_return.append((next_, next_x, next_y, \"right\", counter, pipes))\n",
    "            elif next_ == '.':\n",
    "                pipes.append((next_x, next_y))\n",
    "                to_return.append((next_, next_x, next_y, direction, counter, pipes))\n",
    "        else:\n",
    "            to_return.append((None, None, None, 'stop', counter, pipes))\n",
    "    elif direction == \"down\":\n",
    "        next_point = get_down(x, y)\n",
    "        if next_point is not None and ((next_point[1],next_point[2]) not in pipes or next_point[0] in joints):\n",
    "            next_, next_x, next_y  = next_point\n",
    "            if next_ == '|' :\n",
    "                pipes.append((next_x, next_y))\n",
    "                to_return.append((next_, next_x, next_y, \"down\", counter, pipes))\n",
    "            elif next_ == '/':\n",
    "                pipes.append((next_x, next_y))\n",
    "                to_return.append((next_, next_x, next_y, \"left\", counter, pipes))\n",
    "            elif next_ == '\\\\':\n",
    "                pipes.append((next_x, next_y))\n",
    "                to_return.append((next_, next_x, next_y, \"right\", counter, pipes))\n",
    "            elif next_ == '-':\n",
    "                pipes.append((next_x, next_y))\n",
    "                to_return.append((next_, next_x, next_y, \"left\", counter, pipes))\n",
    "                to_return.append((next_, next_x, next_y, \"right\", counter, pipes))\n",
    "            elif next_ == '.':\n",
    "                pipes.append((next_x, next_y))\n",
    "                to_return.append((next_, next_x, next_y, direction, counter, pipes))\n",
    "        else:\n",
    "            to_return.append((None, None, None, 'stop', counter, pipes))\n",
    "    elif direction == \"left\":\n",
    "        next_point = get_left(x, y)\n",
    "        if next_point is not None and ((next_point[1],next_point[2]) not in pipes or next_point[0] in joints):\n",
    "            next_, next_x, next_y  = next_point\n",
    "            if next_ == '|' :\n",
    "                pipes.append((next_x, next_y))\n",
    "                to_return.append((next_, next_x, next_y, \"up\", counter, pipes))\n",
    "                to_return.append((next_, next_x, next_y, \"down\", counter, pipes))\n",
    "            elif next_ == '/':\n",
    "                pipes.append((next_x, next_y))\n",
    "                to_return.append((next_, next_x, next_y, \"down\", counter, pipes))\n",
    "            elif next_ == '\\\\':\n",
    "                pipes.append((next_x, next_y))\n",
    "                to_return.append((next_, next_x, next_y, \"up\", counter, pipes))\n",
    "            elif next_ == '-':\n",
    "                pipes.append((next_x, next_y))\n",
    "                to_return.append((next_, next_x, next_y, \"left\", counter, pipes))\n",
    "            elif next_ == '.':\n",
    "                pipes.append((next_x, next_y))\n",
    "                to_return.append((next_, next_x, next_y, direction, counter, pipes))\n",
    "        else:\n",
    "            to_return.append((None, None, None, 'stop', counter, pipes))\n",
    "    elif direction == \"right\":\n",
    "        next_point = get_right(x, y)\n",
    "        if next_point is not None and ((next_point[1],next_point[2]) not in pipes or next_point[0] in joints):\n",
    "            next_, next_x, next_y  = next_point\n",
    "            if next_ == '|' :\n",
    "                pipes.append((next_x, next_y))\n",
    "                to_return.append((next_, next_x, next_y, \"down\", counter, pipes))\n",
    "                to_return.append((next_, next_x, next_y, \"up\", counter, pipes))\n",
    "            elif next_ == '/':\n",
    "                pipes.append((next_x, next_y))\n",
    "                to_return.append((next_, next_x, next_y, \"up\", counter, pipes))\n",
    "            elif next_ == '\\\\':\n",
    "                pipes.append((next_x, next_y))\n",
    "                to_return.append((next_, next_x, next_y, \"down\", counter, pipes))\n",
    "            elif next_ == '-':\n",
    "                pipes.append((next_x, next_y))\n",
    "                to_return.append((next_, next_x, next_y, \"right\", counter, pipes))\n",
    "            elif next_ == '.':\n",
    "                pipes.append((next_x, next_y))\n",
    "                to_return.append((next_, next_x, next_y, direction, counter, pipes))\n",
    "        else:\n",
    "            to_return.append((None, None, None, 'stop', counter, pipes))\n",
    "    else:\n",
    "        raise ValueError(\"Invalid direction\")\n",
    "\n",
    "    return to_return\n",
    "\n",
    "    "
   ]
  },
  {
   "cell_type": "code",
   "execution_count": 96,
   "metadata": {},
   "outputs": [],
   "source": [
    "x,y = 0,0\n",
    "pipes = []\n",
    "pipes.append((x,y))"
   ]
  },
  {
   "cell_type": "code",
   "execution_count": 97,
   "metadata": {},
   "outputs": [],
   "source": [
    "returns = flow(x, y, \"right\",0,pipes)\n",
    "\n",
    "while len(returns) > 0:\n",
    "    returns_copy = returns.copy()\n",
    "    returns = []\n",
    "    for return_idx, return_ in enumerate(returns_copy):\n",
    "        next_, next_x, next_y, direction, counter, pipes = return_\n",
    "        if direction != 'stop':\n",
    "            new_returns = flow(next_x, next_y, direction, counter,pipes)\n",
    "            returns.extend(new_returns)"
   ]
  },
  {
   "cell_type": "code",
   "execution_count": 98,
   "metadata": {},
   "outputs": [
    {
     "data": {
      "text/plain": [
       "[(0, 0),\n",
       " (0, 1),\n",
       " (1, 1),\n",
       " (2, 1),\n",
       " (3, 1),\n",
       " (4, 1),\n",
       " (5, 1),\n",
       " (6, 1),\n",
       " (7, 1),\n",
       " (7, 0),\n",
       " (7, 2),\n",
       " (7, 3),\n",
       " (7, 4),\n",
       " (6, 4),\n",
       " (6, 5),\n",
       " (6, 6),\n",
       " (7, 6),\n",
       " (8, 6),\n",
       " (8, 5),\n",
       " (8, 7),\n",
       " (8, 4),\n",
       " (9, 7),\n",
       " (7, 7),\n",
       " (8, 3),\n",
       " (6, 7),\n",
       " (8, 2),\n",
       " (6, 6),\n",
       " (8, 1),\n",
       " (5, 6),\n",
       " (7, 1),\n",
       " (9, 1),\n",
       " (4, 6),\n",
       " (3, 6),\n",
       " (2, 6),\n",
       " (2, 5),\n",
       " (2, 7),\n",
       " (1, 5),\n",
       " (3, 5),\n",
       " (2, 8),\n",
       " (0, 5),\n",
       " (4, 5),\n",
       " (2, 9),\n",
       " (0, 4),\n",
       " (5, 5),\n",
       " (0, 3),\n",
       " (0, 2),\n",
       " (0, 1)]"
      ]
     },
     "execution_count": 98,
     "metadata": {},
     "output_type": "execute_result"
    }
   ],
   "source": [
    "pipes"
   ]
  },
  {
   "cell_type": "code",
   "execution_count": 99,
   "metadata": {},
   "outputs": [],
   "source": [
    "grid_copy = grid.copy()\n",
    "for x,y in pipes:\n",
    "    grid_copy[x,y] = '#'\n"
   ]
  },
  {
   "cell_type": "code",
   "execution_count": 100,
   "metadata": {},
   "outputs": [
    {
     "data": {
      "text/plain": [
       "array([['#', '#', '#', '#', '#', '#', '.', '.', '.', '.'],\n",
       "       ['|', '#', '-', '.', '\\\\', '#', '.', '.', '.', '.'],\n",
       "       ['.', '#', '.', '.', '.', '#', '#', '#', '#', '#'],\n",
       "       ['.', '#', '.', '.', '.', '#', '#', '.', '|', '.'],\n",
       "       ['.', '#', '.', '.', '.', '#', '#', '.', '.', '.'],\n",
       "       ['.', '#', '.', '.', '.', '#', '#', '.', '.', '\\\\'],\n",
       "       ['.', '#', '.', '.', '#', '#', '#', '#', '.', '.'],\n",
       "       ['#', '#', '#', '#', '#', '.', '#', '#', '.', '.'],\n",
       "       ['.', '#', '#', '#', '#', '#', '#', '#', '.', '\\\\'],\n",
       "       ['.', '#', '/', '/', '.', '|', '.', '#', '.', '.']], dtype=object)"
      ]
     },
     "execution_count": 100,
     "metadata": {},
     "output_type": "execute_result"
    }
   ],
   "source": [
    "grid_copy"
   ]
  },
  {
   "cell_type": "code",
   "execution_count": 73,
   "metadata": {},
   "outputs": [
    {
     "data": {
      "text/plain": [
       "44"
      ]
     },
     "execution_count": 73,
     "metadata": {},
     "output_type": "execute_result"
    }
   ],
   "source": [
    "np.sum(grid_copy == '#')"
   ]
  }
 ],
 "metadata": {
  "kernelspec": {
   "display_name": "d2cpy",
   "language": "python",
   "name": "python3"
  },
  "language_info": {
   "codemirror_mode": {
    "name": "ipython",
    "version": 3
   },
   "file_extension": ".py",
   "mimetype": "text/x-python",
   "name": "python",
   "nbconvert_exporter": "python",
   "pygments_lexer": "ipython3",
   "version": "3.8.18"
  },
  "orig_nbformat": 4
 },
 "nbformat": 4,
 "nbformat_minor": 2
}
