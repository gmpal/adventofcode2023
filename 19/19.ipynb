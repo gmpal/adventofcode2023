{
 "cells": [
  {
   "cell_type": "code",
   "execution_count": 2,
   "metadata": {},
   "outputs": [],
   "source": [
    "with open('simple.txt', 'r') as file:\n",
    "    lines = file.readlines()\n",
    "\n",
    "lines = [line.strip() for line in lines]\n"
   ]
  },
  {
   "cell_type": "code",
   "execution_count": 3,
   "metadata": {},
   "outputs": [],
   "source": [
    "for idx, line in enumerate(lines):\n",
    "    if line == '':\n",
    "        workflows = lines[:idx]\n",
    "        parts = lines[idx+1:]\n"
   ]
  },
  {
   "cell_type": "code",
   "execution_count": 4,
   "metadata": {},
   "outputs": [],
   "source": [
    "workflows_dict = {}\n",
    "for workflow in workflows: \n",
    "    workflow_index = workflow.split('{')[0]\n",
    "    workflow_procedure = workflow.split('{')[1].split('}')[0]\n",
    "    workflow_procedure = workflow_procedure.split(',')\n",
    "    workflows_dict[workflow_index] = workflow_procedure"
   ]
  },
  {
   "cell_type": "code",
   "execution_count": 5,
   "metadata": {},
   "outputs": [],
   "source": [
    "def go_through_workflows(workflow_idx, xmas_dict):\n",
    "    workflow = workflows_dict[workflow_idx]\n",
    "    for step in workflow:\n",
    "        if ':' in step:\n",
    "            condition = step.split(':')[0]\n",
    "            target = step.split(':')[1]\n",
    "            if '<' in condition: \n",
    "                variable = condition.split('<')[0]\n",
    "                value = condition.split('<')[1]\n",
    "                if xmas_dict[variable] < int(value):\n",
    "                    return target\n",
    "            elif '>' in condition:\n",
    "                variable = condition.split('>')[0]\n",
    "                value = condition.split('>')[1]\n",
    "                if xmas_dict[variable] > int(value):\n",
    "                    return target\n",
    "\n",
    "        else:\n",
    "            return step\n"
   ]
  },
  {
   "cell_type": "code",
   "execution_count": 7,
   "metadata": {},
   "outputs": [],
   "source": [
    "sum_total = 0\n",
    "for part in parts: \n",
    "    part = part[1:-1]\n",
    "    xmas = part.split(',')\n",
    "    xmas_dict = {}\n",
    "    for letter in xmas:\n",
    "        xmas_dict[letter.split('=')[0]] = int(letter.split('=')[1])\n",
    "    \n",
    "    a = go_through_workflows('in', xmas_dict)\n",
    "    while a != 'A' and a != 'R':\n",
    "        a = go_through_workflows(a, xmas_dict)\n",
    "    \n",
    "    if a == 'A':\n",
    "        sum_ = 0\n",
    "        for key in xmas_dict.keys():\n",
    "            sum_ += xmas_dict[key]\n",
    "        sum_total += sum_"
   ]
  },
  {
   "cell_type": "code",
   "execution_count": 8,
   "metadata": {},
   "outputs": [
    {
     "data": {
      "text/plain": [
       "19114"
      ]
     },
     "execution_count": 8,
     "metadata": {},
     "output_type": "execute_result"
    }
   ],
   "source": [
    "sum_total"
   ]
  },
  {
   "cell_type": "markdown",
   "metadata": {},
   "source": [
    "Part 2 "
   ]
  },
  {
   "cell_type": "code",
   "execution_count": 10,
   "metadata": {},
   "outputs": [
    {
     "data": {
      "text/plain": [
       "['px{a<2006:qkq,m>2090:A,rfg}',\n",
       " 'pv{a>1716:R,A}',\n",
       " 'lnx{m>1548:A,A}',\n",
       " 'rfg{s<537:gd,x>2440:R,A}',\n",
       " 'qs{s>3448:A,lnx}',\n",
       " 'qkq{x<1416:A,crn}',\n",
       " 'crn{x>2662:A,R}',\n",
       " 'in{s<1351:px,qqz}',\n",
       " 'qqz{s>2770:qs,m<1801:hdj,R}',\n",
       " 'gd{a>3333:R,R}',\n",
       " 'hdj{m>838:A,pv}']"
      ]
     },
     "execution_count": 10,
     "metadata": {},
     "output_type": "execute_result"
    }
   ],
   "source": [
    "workflows"
   ]
  },
  {
   "cell_type": "code",
   "execution_count": 26,
   "metadata": {},
   "outputs": [],
   "source": [
    "paths = []\n",
    "def depth_first(index, path):\n",
    "    if index == 'A':\n",
    "        paths.append(path)\n",
    "        return path\n",
    "    if index == 'R':\n",
    "        return None\n",
    "    else:\n",
    "        conditions = ''\n",
    "        for step_idx, step in enumerate(workflows_dict[index]):\n",
    "            # print('Workflow', index, 'Step', step_idx, '(Path', path, ')' )\n",
    "            if ':' in step:\n",
    "                condition = step.split(':')[0]\n",
    "                target = step.split(':')[1]\n",
    "                depth_first(target, path + conditions+','+condition) #branch 1\n",
    "                if '<' in condition:\n",
    "                    conditions += ','+condition.replace('<', '>')\n",
    "                elif '>' in condition:\n",
    "                    conditions += ','+condition.replace('>', '<')\n",
    "\n",
    "            else:\n",
    "                depth_first(step,  path + conditions)\n",
    "                "
   ]
  },
  {
   "cell_type": "code",
   "execution_count": 27,
   "metadata": {},
   "outputs": [],
   "source": [
    "depth_first('in' , '')"
   ]
  },
  {
   "cell_type": "code",
   "execution_count": 28,
   "metadata": {},
   "outputs": [],
   "source": [
    "#167409079868000"
   ]
  },
  {
   "cell_type": "code",
   "execution_count": 29,
   "metadata": {},
   "outputs": [
    {
     "data": {
      "text/plain": [
       "[',s<1351,a<2006,x<1416',\n",
       " ',s<1351,a<2006,x>1416,x>2662',\n",
       " ',s<1351,a>2006,m>2090',\n",
       " ',s<1351,a>2006,m<2090,s>537,x<2440',\n",
       " ',s>1351,s>2770,s>3448',\n",
       " ',s>1351,s>2770,s<3448,m>1548',\n",
       " ',s>1351,s>2770,s<3448,m<1548',\n",
       " ',s>1351,s<2770,m<1801,m>838',\n",
       " ',s>1351,s<2770,m<1801,m<838,a<1716']"
      ]
     },
     "execution_count": 29,
     "metadata": {},
     "output_type": "execute_result"
    }
   ],
   "source": [
    "paths"
   ]
  },
  {
   "cell_type": "code",
   "execution_count": 57,
   "metadata": {},
   "outputs": [],
   "source": [
    "paths_dicts = {}\n",
    "for path_idx, path in enumerate(paths):\n",
    "    variables_max = {'x': 4000, 'm': 4000, 'a': 4000, 's': 4000}\n",
    "    variables_min = {'x': 1, 'm': 1, 'a': 1, 's': 1}\n",
    "    conditions = path.split(',')\n",
    "    for condition in conditions:\n",
    "        if '<' in condition:\n",
    "            variable = condition.split('<')[0]\n",
    "            value = int(condition.split('<')[1])\n",
    "            variables_max[variable] = value -1\n",
    "        elif '>' in condition:\n",
    "            variable = condition.split('>')[0]\n",
    "            value = int(condition.split('>')[1])\n",
    "            variables_min[variable] = value + 1\n",
    "    variables_diff = {\n",
    "        'x': variables_max['x'] - variables_min['x'] + 1,\n",
    "        'm': variables_max['m'] - variables_min['m'] + 1,\n",
    "        'a': variables_max['a'] - variables_min['a'] + 1,\n",
    "        's': variables_max['s'] - variables_min['s'] + 1\n",
    "    }\n",
    "    paths_dicts[path_idx] = variables_diff"
   ]
  },
  {
   "cell_type": "code",
   "execution_count": 58,
   "metadata": {},
   "outputs": [
    {
     "data": {
      "text/plain": [
       "{0: {'x': 1415, 'm': 4000, 'a': 2005, 's': 1350},\n",
       " 1: {'x': 1338, 'm': 4000, 'a': 2005, 's': 1350},\n",
       " 2: {'x': 4000, 'm': 1910, 'a': 1994, 's': 1350},\n",
       " 3: {'x': 2439, 'm': 2089, 'a': 1994, 's': 813},\n",
       " 4: {'x': 4000, 'm': 4000, 'a': 4000, 's': 552},\n",
       " 5: {'x': 4000, 'm': 2452, 'a': 4000, 's': 677},\n",
       " 6: {'x': 4000, 'm': 1547, 'a': 4000, 's': 677},\n",
       " 7: {'x': 4000, 'm': 962, 'a': 4000, 's': 1418},\n",
       " 8: {'x': 4000, 'm': 837, 'a': 1715, 's': 1418}}"
      ]
     },
     "execution_count": 58,
     "metadata": {},
     "output_type": "execute_result"
    }
   ],
   "source": [
    "paths_dicts"
   ]
  },
  {
   "cell_type": "code",
   "execution_count": 59,
   "metadata": {},
   "outputs": [
    {
     "data": {
      "text/plain": [
       "167245503449662"
      ]
     },
     "execution_count": 59,
     "metadata": {},
     "output_type": "execute_result"
    }
   ],
   "source": [
    "#paths_dicts\n",
    "sum_= 0\n",
    "for key, value in paths_dicts.items():\n",
    "    sum_ += value['x']*value['m']*value['a']*value['s']\n",
    "\n",
    "sum_\n"
   ]
  },
  {
   "cell_type": "code",
   "execution_count": 60,
   "metadata": {},
   "outputs": [
    {
     "data": {
      "text/plain": [
       "167409079868000"
      ]
     },
     "execution_count": 60,
     "metadata": {},
     "output_type": "execute_result"
    }
   ],
   "source": [
    "167409079868000"
   ]
  },
  {
   "cell_type": "code",
   "execution_count": 152,
   "metadata": {},
   "outputs": [],
   "source": [
    "letters_min = {}\n",
    "letters_max = {}\n",
    "for path in paths:\n",
    "    splits = path.split(',')\n",
    "    for split in splits:\n",
    "        if '<' in split:\n",
    "            variable = split.split('<')[0]\n",
    "            value = split.split('<')[1]\n",
    "            if variable not in letters_max.keys():\n",
    "                letters_max[variable] = int(value)\n",
    "            else:\n",
    "                letters_max[variable] = min(letters_max[variable], int(value))\n",
    "        elif '>' in split:\n",
    "            variable = split.split('>')[0]\n",
    "            value = split.split('>')[1]\n",
    "            value = 4000 - value\n",
    "            \n",
    "            letters_min[variable] = int(value)\n",
    "            \n"
   ]
  },
  {
   "cell_type": "code",
   "execution_count": 153,
   "metadata": {},
   "outputs": [
    {
     "data": {
      "text/plain": [
       "{'s': 1351, 'a': 1716, 'x': 1416, 'm': 838}"
      ]
     },
     "execution_count": 153,
     "metadata": {},
     "output_type": "execute_result"
    }
   ],
   "source": [
    "letters_max"
   ]
  },
  {
   "cell_type": "code",
   "execution_count": 154,
   "metadata": {},
   "outputs": [
    {
     "data": {
      "text/plain": [
       "{'x': 2662, 'a': 2006, 'm': 2090, 's': 3448}"
      ]
     },
     "execution_count": 154,
     "metadata": {},
     "output_type": "execute_result"
    }
   ],
   "source": [
    "letters_min"
   ]
  },
  {
   "cell_type": "code",
   "execution_count": 85,
   "metadata": {},
   "outputs": [],
   "source": [
    "results = go_through_workflows('in')\n",
    "target = None\n",
    "while target != 'A' and target != 'R':\n",
    "    for results in results:\n",
    "        if results[1] == None:\n",
    "    target = results[0]\n",
    "    results = go_through_workflows(target)"
   ]
  },
  {
   "cell_type": "code",
   "execution_count": null,
   "metadata": {},
   "outputs": [],
   "source": [
    "    for step in workflow:\n",
    "        if ':' in step:\n",
    "            condition = step.split(':')[0]\n",
    "            target = step.split(':')[1]\n",
    "            if '<' in condition: \n",
    "                variable = condition.split('<')[0]\n",
    "                value = condition.split('<')[1]\n",
    "                return target, variable, int(value)\n",
    "            elif '>' in condition:\n",
    "                variable = condition.split('>')[0]\n",
    "                value = condition.split('>')[1]\n",
    "                return target, variable, 4000 - int(value)\n",
    "            \n",
    "        else:\n",
    "            return step, None, None\n"
   ]
  },
  {
   "cell_type": "code",
   "execution_count": 78,
   "metadata": {},
   "outputs": [
    {
     "name": "stdout",
     "output_type": "stream",
     "text": [
      "px s 1351\n",
      "qkq a 2006\n"
     ]
    }
   ],
   "source": [
    "target, variable, value = go_through_workflows('in')\n",
    "while target != 'A':\n",
    "    print(target, variable, value)\n",
    "    target, variable, value = go_through_workflows(target)\n",
    "    "
   ]
  },
  {
   "cell_type": "code",
   "execution_count": 75,
   "metadata": {},
   "outputs": [
    {
     "name": "stdout",
     "output_type": "stream",
     "text": [
      "{x=787,m=2655,a=1222,s=2876}\n",
      "{None: None, 's': 1230, 'm': 2452}\n",
      "3015960\n"
     ]
    }
   ],
   "source": [
    "sum_total = 0\n",
    "for part in parts: \n",
    "    print(part)\n",
    "    part = part[1:-1]\n",
    "    xmas = part.split(',')\n",
    "    xmas_dict = {}\n",
    "    for letter in xmas:\n",
    "        xmas_dict[letter.split('=')[0]] = int(letter.split('=')[1])\n",
    "    \n",
    "    upper_limits = {}\n",
    "    target, variable, value = go_through_workflows('in', xmas_dict)\n",
    "    upper_limits[variable] = value\n",
    "    while target != 'A' and target != 'R':\n",
    "        target, variable, value = go_through_workflows(target, xmas_dict)\n",
    "        upper_limits[variable] = value\n",
    "    \n",
    "    print(upper_limits)\n",
    "    if target == 'A':\n",
    "        possibilities = 1\n",
    "        for key in upper_limits.keys():\n",
    "            if key is not None:\n",
    "                possibilities *= upper_limits[key]\n",
    "        print(possibilities)\n",
    "        sum_total += possibilities\n",
    "    break"
   ]
  },
  {
   "cell_type": "code",
   "execution_count": 74,
   "metadata": {},
   "outputs": [
    {
     "data": {
      "text/plain": [
       "3019112"
      ]
     },
     "execution_count": 74,
     "metadata": {},
     "output_type": "execute_result"
    }
   ],
   "source": [
    "sum_total"
   ]
  }
 ],
 "metadata": {
  "kernelspec": {
   "display_name": "d2cpy",
   "language": "python",
   "name": "python3"
  },
  "language_info": {
   "codemirror_mode": {
    "name": "ipython",
    "version": 3
   },
   "file_extension": ".py",
   "mimetype": "text/x-python",
   "name": "python",
   "nbconvert_exporter": "python",
   "pygments_lexer": "ipython3",
   "version": "3.8.16"
  },
  "orig_nbformat": 4
 },
 "nbformat": 4,
 "nbformat_minor": 2
}
